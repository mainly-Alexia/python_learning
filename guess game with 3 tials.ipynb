{
 "cells": [
  {
   "cell_type": "code",
   "execution_count": 2,
   "id": "79d75454-b984-4f5a-8f3d-9756d597ba4c",
   "metadata": {},
   "outputs": [
    {
     "name": "stdin",
     "output_type": "stream",
     "text": [
      "gues a number: 2\n"
     ]
    },
    {
     "name": "stdout",
     "output_type": "stream",
     "text": [
      "too low\n"
     ]
    },
    {
     "name": "stdin",
     "output_type": "stream",
     "text": [
      "gues a number: 3\n"
     ]
    },
    {
     "name": "stdout",
     "output_type": "stream",
     "text": [
      "too low\n"
     ]
    },
    {
     "name": "stdin",
     "output_type": "stream",
     "text": [
      "gues a number: 8\n"
     ]
    },
    {
     "name": "stdout",
     "output_type": "stream",
     "text": [
      "you have failed the correct guess is 7\n"
     ]
    }
   ],
   "source": [
    "correct_guess=7\n",
    "count=0\n",
    "while count<3:\n",
    "    number=int(input(\"gues a number:\"))\n",
    "    count=count+1\n",
    "    if count==3:\n",
    "        print(\"you have failed the correct guess is 7\")\n",
    "    elif number==correct_guess:\n",
    "        print(\"you have won!\")\n",
    "        break\n",
    "    elif number>correct_guess:\n",
    "        print(\"too high\")\n",
    "    elif number<correct_guess and number>0:\n",
    "        print(\"too low\")"
   ]
  },
  {
   "cell_type": "code",
   "execution_count": null,
   "id": "d67f6045-8697-47cf-9807-22459247ca3a",
   "metadata": {},
   "outputs": [],
   "source": []
  }
 ],
 "metadata": {
  "kernelspec": {
   "display_name": "Python 3 (ipykernel)",
   "language": "python",
   "name": "python3"
  },
  "language_info": {
   "codemirror_mode": {
    "name": "ipython",
    "version": 3
   },
   "file_extension": ".py",
   "mimetype": "text/x-python",
   "name": "python",
   "nbconvert_exporter": "python",
   "pygments_lexer": "ipython3",
   "version": "3.13.2"
  }
 },
 "nbformat": 4,
 "nbformat_minor": 5
}
