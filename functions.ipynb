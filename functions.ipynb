{
 "cells": [
  {
   "cell_type": "code",
   "execution_count": 1,
   "id": "50a8c041-b46d-4ca6-8274-5242322ef0e5",
   "metadata": {},
   "outputs": [
    {
     "data": {
      "text/plain": [
       "'hello world'"
      ]
     },
     "execution_count": 1,
     "metadata": {},
     "output_type": "execute_result"
    }
   ],
   "source": [
    "def greet():\n",
    "    words=\"hello world\"\n",
    "    return words\n",
    "\n",
    "greet()"
   ]
  },
  {
   "cell_type": "code",
   "execution_count": 6,
   "id": "3186156d-8183-41dd-8653-3b51aff21779",
   "metadata": {},
   "outputs": [
    {
     "name": "stdin",
     "output_type": "stream",
     "text": [
      "type your name: diana\n",
      "indicate your age: 12\n",
      "write your gender female\n"
     ]
    },
    {
     "data": {
      "text/plain": [
       "'my name is diana,am 12 and ofcoz am a female'"
      ]
     },
     "execution_count": 6,
     "metadata": {},
     "output_type": "execute_result"
    }
   ],
   "source": [
    "name=input(\"type your name:\")\n",
    "age=int(input(\"indicate your age:\"))\n",
    "gender=input(\"write your gender\")\n",
    "def introduction():\n",
    "    your_name=name\n",
    "    your_age=age\n",
    "    your_gender=gender\n",
    "    return f\"my name is {your_name},am {your_age} and ofcoz am a {your_gender}\"\n",
    "\n",
    "introduction()"
   ]
  },
  {
   "cell_type": "code",
   "execution_count": 7,
   "id": "44c77d73-d1b3-4213-bfee-78cb2816bbf9",
   "metadata": {},
   "outputs": [
    {
     "data": {
      "text/plain": [
       "'its chilly outside.wear a jacket.'"
      ]
     },
     "execution_count": 7,
     "metadata": {},
     "output_type": "execute_result"
    }
   ],
   "source": [
    "def check_weather(temperature):\n",
    "    if temperature<0:\n",
    "        return \"its freezeni!,stay warm\"\n",
    "    elif temperature>=0 and temperature<=15:\n",
    "        return \"its chilly outside.wear a jacket.\"\n",
    "    elif temperature>=16 and temperature<=25:\n",
    "        return\"perfect weather for a walk!\"\n",
    "    elif temperature>25:\n",
    "        return \"its hot! stay hydrated\"\n",
    "\n",
    "\n",
    "check_weather(2)"
   ]
  },
  {
   "cell_type": "code",
   "execution_count": 10,
   "id": "06fd070e-d432-4928-9273-f254ac90b572",
   "metadata": {},
   "outputs": [
    {
     "name": "stdin",
     "output_type": "stream",
     "text": [
      "indicate your age: 69\n",
      "write the price of the ticket: 500\n"
     ]
    },
    {
     "data": {
      "text/plain": [
       "350.0"
      ]
     },
     "execution_count": 10,
     "metadata": {},
     "output_type": "execute_result"
    }
   ],
   "source": [
    "age=int(input(\"indicate your age:\"))\n",
    "price=float(input(\"write the price of the ticket:\"))\n",
    "def ticket_booking():\n",
    "    your_age=age\n",
    "    ticket_price=price\n",
    "    if your_age<12:\n",
    "        return ticket_price*0.5\n",
    "    elif your_age>=12 and your_age<60:\n",
    "        return ticket_price\n",
    "    elif your_age>=60:\n",
    "        discount=ticket_price*0.3\n",
    "        return ticket_price-discount\n",
    "\n",
    "\n",
    "\n",
    "ticket_booking()"
   ]
  },
  {
   "cell_type": "code",
   "execution_count": 12,
   "id": "2c2f9c9d-042b-4f01-9c34-763578eaddb8",
   "metadata": {},
   "outputs": [
    {
     "name": "stdin",
     "output_type": "stream",
     "text": [
      "enter number of glasses of water taken: 4\n"
     ]
    },
    {
     "data": {
      "text/plain": [
       "'very far from achieving yuor goal of drinking water for you have only drank 1.0 liters today'"
      ]
     },
     "execution_count": 12,
     "metadata": {},
     "output_type": "execute_result"
    }
   ],
   "source": [
    "def track_water_intake():\n",
    "    water_taken=int(input(\"enter number of glasses of water taken:\"))\n",
    "    liter=water_taken*0.25\n",
    "    if liter>=2:\n",
    "        return f\"you have completed your goal of drinking water by drinking {liter} liters today\"\n",
    "    else:\n",
    "        return f\"very far from achieving yuor goal of drinking water for you have only drank {liter} liters today\"\n",
    "\n",
    "track_water_intake()\n",
    "    "
   ]
  },
  {
   "cell_type": "code",
   "execution_count": 18,
   "id": "a5e63d5a-02ee-4470-b70a-cb31104c27a9",
   "metadata": {},
   "outputs": [
    {
     "data": {
      "text/plain": [
       "'the amount of the tip was 3000.0 $ and the whole amount encluding the tip was 8000.0 but if u were 2 on the table you can split the bill and every one can pay 2500.0'"
      ]
     },
     "execution_count": 18,
     "metadata": {},
     "output_type": "execute_result"
    }
   ],
   "source": [
    "def calculate_tip(total_bill:float,tip_percentage:float,split:int):\n",
    "    tip=total_bill*tip_percentage\n",
    "    total_amount=tip+total_bill\n",
    "    amount_per_person=total_bill/split\n",
    "    return f\"the amount of the tip was {tip} $ and the whole amount encluding the tip was {total_amount} but if u were {split} on the table you can split the bill and every one can pay {amount_per_person}\"\n",
    "\n",
    "calculate_tip(5000,0.6,2)"
   ]
  },
  {
   "cell_type": "code",
   "execution_count": null,
   "id": "4596505e-ee40-4a7b-b6c9-1411b1623eb0",
   "metadata": {},
   "outputs": [],
   "source": []
  }
 ],
 "metadata": {
  "kernelspec": {
   "display_name": "Python 3 (ipykernel)",
   "language": "python",
   "name": "python3"
  },
  "language_info": {
   "codemirror_mode": {
    "name": "ipython",
    "version": 3
   },
   "file_extension": ".py",
   "mimetype": "text/x-python",
   "name": "python",
   "nbconvert_exporter": "python",
   "pygments_lexer": "ipython3",
   "version": "3.13.2"
  }
 },
 "nbformat": 4,
 "nbformat_minor": 5
}
