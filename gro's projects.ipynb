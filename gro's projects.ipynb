{
 "cells": [
  {
   "cell_type": "code",
   "execution_count": 1,
   "id": "301072f8-a554-404a-96d5-a8f56d7d87d2",
   "metadata": {},
   "outputs": [
    {
     "name": "stdout",
     "output_type": "stream",
     "text": [
      "1\n",
      "2\n",
      "3\n",
      "4\n",
      "continue\n",
      "6\n",
      "7\n",
      "8\n",
      "9\n",
      "continue\n",
      "11\n",
      "12\n",
      "13\n",
      "14\n",
      "continue\n",
      "16\n",
      "17\n",
      "18\n",
      "19\n",
      "continue\n",
      "21\n",
      "22\n",
      "23\n",
      "24\n",
      "continue\n",
      "26\n",
      "27\n",
      "28\n",
      "29\n",
      "continue\n",
      "31\n",
      "32\n",
      "33\n",
      "34\n",
      "continue\n",
      "36\n",
      "37\n",
      "38\n",
      "39\n",
      "continue\n",
      "41\n",
      "42\n",
      "43\n",
      "44\n",
      "continue\n",
      "46\n",
      "47\n",
      "48\n",
      "49\n",
      "continue\n"
     ]
    }
   ],
   "source": [
    "for i in range(1,51):\n",
    "    if i%5==0:\n",
    "        print(\"continue\")\n",
    "    else:\n",
    "        print(i)"
   ]
  },
  {
   "cell_type": "code",
   "execution_count": 62,
   "id": "0b8c83f3-d5ed-41ba-aac0-78077910b293",
   "metadata": {},
   "outputs": [
    {
     "name": "stdout",
     "output_type": "stream",
     "text": [
      "*****\n",
      "****\n",
      "***\n",
      "**\n",
      "*\n"
     ]
    }
   ],
   "source": [
    "row=\" \"\n",
    "for i in range(1,0,-1):\n",
    "    for char in range(5,0,-1):\n",
    "        like=(\" \"*i)\n",
    "        for eve in range(-1,0,2):\n",
    "            print(\"*\"*char)\n",
    "            break\n",
    "            "
   ]
  },
  {
   "cell_type": "code",
   "execution_count": 73,
   "id": "244f28c1-9392-48cb-bfa7-57f34c7d32b6",
   "metadata": {},
   "outputs": [
    {
     "name": "stdin",
     "output_type": "stream",
     "text": [
      "write your fav number of the day of a week: 5\n"
     ]
    },
    {
     "name": "stdout",
     "output_type": "stream",
     "text": [
      "friday\n"
     ]
    }
   ],
   "source": [
    "number=int(input(\"write your fav number of the day of a week:\"))\n",
    "for i in range(1,2):\n",
    "    if number==1:\n",
    "        print(\"monday\")\n",
    "    elif number==2:\n",
    "        print(\"tuesday\")\n",
    "    elif number==3:\n",
    "        print(\"wednesday\")\n",
    "    elif number==4:\n",
    "        print(\"thursday\")\n",
    "    elif number==5:\n",
    "        print(\"friday\")\n",
    "    elif number==6:\n",
    "        print(\"sartuday\")\n",
    "    elif number==7:\n",
    "        print(\"sunday\")\n",
    "    else:\n",
    "        print(\"put a number from 1 to 7\")"
   ]
  },
  {
   "cell_type": "code",
   "execution_count": 75,
   "id": "515ad01b-c0ae-480e-8628-c5eba08379c1",
   "metadata": {},
   "outputs": [
    {
     "name": "stdin",
     "output_type": "stream",
     "text": [
      "type your number to be checked: 4\n"
     ]
    },
    {
     "name": "stdout",
     "output_type": "stream",
     "text": [
      "even number\n"
     ]
    }
   ],
   "source": [
    "digit=int(input(\"type your number to be checked:\"))\n",
    "if digit%2==0:\n",
    "    print(\"even number\")\n",
    "elif digit%2!=0:\n",
    "    print(\"OLD NUMBER\")\n",
    "else:\n",
    "    print(\"put a number pl"
   ]
  },
  {
   "cell_type": "code",
   "execution_count": null,
   "id": "7ffebb48-b6c3-40d2-a388-b3002f98f527",
   "metadata": {},
   "outputs": [],
   "source": []
  }
 ],
 "metadata": {
  "kernelspec": {
   "display_name": "Python 3 (ipykernel)",
   "language": "python",
   "name": "python3"
  },
  "language_info": {
   "codemirror_mode": {
    "name": "ipython",
    "version": 3
   },
   "file_extension": ".py",
   "mimetype": "text/x-python",
   "name": "python",
   "nbconvert_exporter": "python",
   "pygments_lexer": "ipython3",
   "version": "3.13.2"
  }
 },
 "nbformat": 4,
 "nbformat_minor": 5
}
