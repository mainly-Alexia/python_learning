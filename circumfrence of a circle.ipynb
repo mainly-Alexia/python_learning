{
 "cells": [
  {
   "cell_type": "code",
   "execution_count": 2,
   "id": "1993b6a5-f197-46bf-a819-7fe8f5384fc4",
   "metadata": {},
   "outputs": [
    {
     "name": "stdin",
     "output_type": "stream",
     "text": [
      "radius 4.2\n"
     ]
    },
    {
     "name": "stdout",
     "output_type": "stream",
     "text": [
      "26.376\n"
     ]
    }
   ],
   "source": [
    "circumference=float(input(\"radius\"))*2*3.14\n",
    "print(circumference)\n",
    "\n"
   ]
  },
  {
   "cell_type": "code",
   "execution_count": 4,
   "id": "5b6374e0-587c-4ae3-98ba-3d5ae71e4247",
   "metadata": {},
   "outputs": [
    {
     "name": "stdout",
     "output_type": "stream",
     "text": [
      "Total:$ 24.99\n"
     ]
    }
   ],
   "source": [
    "print(\"Total:$\",24.99)"
   ]
  },
  {
   "cell_type": "raw",
   "id": "07d0fd1b-f304-4230-9415-a9f25567a815",
   "metadata": {},
   "source": []
  },
  {
   "cell_type": "code",
   "execution_count": 14,
   "id": "afe68100-eb15-40ee-9c75-4756c278967d",
   "metadata": {},
   "outputs": [
    {
     "name": "stdout",
     "output_type": "stream",
     "text": [
      "222.0\n"
     ]
    }
   ],
   "source": [
    "hours=15\n",
    "money=18.50\n",
    "total_money=money*hours\n",
    "tax=total_money*0.20\n",
    "earnings=total_money-tax\n",
    "print(earnings)"
   ]
  },
  {
   "cell_type": "code",
   "execution_count": 9,
   "id": "cafa0bf0-c81f-468c-bcfd-ccd0018b17b9",
   "metadata": {},
   "outputs": [
    {
     "name": "stdout",
     "output_type": "stream",
     "text": [
      "7\n",
      "5\n"
     ]
    }
   ],
   "source": [
    "x=5\n",
    "y=7\n",
    "x,y=y,x\n",
    "print(x)\n",
    "print(y"
   ]
  },
  {
   "cell_type": "code",
   "execution_count": 10,
   "id": "e72b439f-9ae0-44ee-8091-c128987f0898",
   "metadata": {},
   "outputs": [
    {
     "name": "stdout",
     "output_type": "stream",
     "text": [
      "183\n"
     ]
    }
   ],
   "source": [
    "h=int(183.7)\n",
    "print(h)\n"
   ]
  },
  {
   "cell_type": "code",
   "execution_count": 12,
   "id": "eb1d2dd6-f503-47ba-92a6-c9f8299b116b",
   "metadata": {},
   "outputs": [
    {
     "name": "stdout",
     "output_type": "stream",
     "text": [
      "(2+5j)\n"
     ]
    }
   ],
   "source": [
    "z=2+5J\n",
    "print(z)\n"
   ]
  },
  {
   "cell_type": "code",
   "execution_count": null,
   "id": "bcc61e4c-0bd9-4b4d-a7b1-cc9b8d63aefd",
   "metadata": {},
   "outputs": [],
   "source": []
  }
 ],
 "metadata": {
  "kernelspec": {
   "display_name": "Python 3 (ipykernel)",
   "language": "python",
   "name": "python3"
  },
  "language_info": {
   "codemirror_mode": {
    "name": "ipython",
    "version": 3
   },
   "file_extension": ".py",
   "mimetype": "text/x-python",
   "name": "python",
   "nbconvert_exporter": "python",
   "pygments_lexer": "ipython3",
   "version": "3.13.2"
  }
 },
 "nbformat": 4,
 "nbformat_minor": 5
}
