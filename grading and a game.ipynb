{
 "cells": [
  {
   "cell_type": "code",
   "execution_count": 26,
   "id": "807ad424-49b3-4c93-a783-e2729efe7fe1",
   "metadata": {},
   "outputs": [
    {
     "name": "stdin",
     "output_type": "stream",
     "text": [
      "enter your grade: 0\n"
     ]
    },
    {
     "name": "stdout",
     "output_type": "stream",
     "text": [
      "fail\n"
     ]
    }
   ],
   "source": [
    "grade=float(input(\"enter your grade:\"))\n",
    "if (grade>=80.5 and grade<=100):\n",
    "    print(\"Exellent\")\n",
    "elif (grade<80.5 and grade>=75):\n",
    "    print(\"very good\")\n",
    "elif (grade<75.5 and grade>=60):\n",
    "    print(\"good\")\n",
    "elif (grade<60.5 and grade>=50):\n",
    "    print(\"average\")\n",
    "elif (grade<50 and grade>=0.0):\n",
    "    print(\"fail\")\n",
    "else:\n",
    "    print(\"you should enter grade in numbers from 100 to 0\")\n"
   ]
  },
  {
   "cell_type": "code",
   "execution_count": 38,
   "id": "3cd29fbb-40b3-4a60-947e-ae615e167f15",
   "metadata": {},
   "outputs": [
    {
     "name": "stdin",
     "output_type": "stream",
     "text": [
      "put ur salary 500\n",
      "put ur years 4\n"
     ]
    },
    {
     "name": "stdout",
     "output_type": "stream",
     "text": [
      "525.0\n"
     ]
    }
   ],
   "source": [
    "salary=float(input(\"put ur salary\"))\n",
    "years=float(input(\"put ur years\"))\n",
    "if years>10:\n",
    "    bonus=0.1*salary\n",
    "elif years>=6 and years<=10:\n",
    "    bonus=0.08*salary\n",
    "elif years<6 and years>=0:\n",
    "    bonus=0.05*salary\n",
    "print(salary+bonus)"
   ]
  },
  {
   "cell_type": "code",
   "execution_count": 3,
   "id": "3e0c4250-9b0f-49a2-92de-bcca5eb24376",
   "metadata": {},
   "outputs": [
    {
     "name": "stdin",
     "output_type": "stream",
     "text": [
      "type the height 1\n",
      "type the width 2\n",
      "type the length 3\n"
     ]
    },
    {
     "name": "stdout",
     "output_type": "stream",
     "text": [
      "scalene\n"
     ]
    }
   ],
   "source": [
    "height=float(input(\"type the height\"))\n",
    "width=float(input( \"type the width\"))\n",
    "length=float(input(\"type the length\"))\n",
    "if (height==width==length):\n",
    "    print(\"equilateral\")\n",
    "elif (height==width or width==length or length==height):\n",
    "    print(\"isosceles\")\n",
    "elif(height!=width!=length):\n",
    "    print(\"scalene\")"
   ]
  },
  {
   "cell_type": "code",
   "execution_count": 7,
   "id": "b07f8b2c-77c7-4a22-b0c5-c81b273e2976",
   "metadata": {},
   "outputs": [
    {
     "name": "stdin",
     "output_type": "stream",
     "text": [
      "type your age: 19\n",
      " indicate whether F/M: f\n"
     ]
    },
    {
     "name": "stdout",
     "output_type": "stream",
     "text": [
      "750 kwacha per day\n"
     ]
    }
   ],
   "source": [
    "age=int(input(\"type your age:\"))\n",
    "gender=input(\" indicate whether F/M:\")\n",
    "gender=gender.upper()\n",
    "if (age>=18 and age<30 and gender==\"F\"):\n",
    "    result=(\"750 kwacha per day\")\n",
    "elif (age>=18 and age<30 and gender==\"M\"):\n",
    "    result=(\"700 kwacha per day\")\n",
    "elif(age>=30 and age<=40 and gender==\"M\"):\n",
    "    result=(\"800 kwacha per day\")\n",
    "elif(age>=30 and age<=40 and gender==\"F\"):\n",
    "    result=(\"850 kwacha per day\")\n",
    "print(result)"
   ]
  },
  {
   "cell_type": "code",
   "execution_count": 5,
   "id": "3e29d60d-9b69-4193-a515-51b3720d2477",
   "metadata": {},
   "outputs": [
    {
     "name": "stdin",
     "output_type": "stream",
     "text": [
      "guess the number: 3\n"
     ]
    },
    {
     "name": "stdout",
     "output_type": "stream",
     "text": [
      "too low!\n"
     ]
    },
    {
     "name": "stdin",
     "output_type": "stream",
     "text": [
      "guess the number: 4\n"
     ]
    },
    {
     "name": "stdout",
     "output_type": "stream",
     "text": [
      "too low!\n"
     ]
    },
    {
     "name": "stdin",
     "output_type": "stream",
     "text": [
      "guess the number: 7\n"
     ]
    },
    {
     "name": "stdout",
     "output_type": "stream",
     "text": [
      "you have won!\n"
     ]
    }
   ],
   "source": [
    "guess_number=7\n",
    "while True:\n",
    "    prompt=int(input(\"guess the number:\"))\n",
    "    if prompt==guess_number:\n",
    "        print(\"you have won!\")\n",
    "        break\n",
    "    elif prompt>guess_number:\n",
    "        print(\"too high!\")\n",
    "    elif prompt<guess_number:\n",
    "        print(\"too low!\")\n",
    "    else:\n",
    "        break"
   ]
  },
  {
   "cell_type": "code",
   "execution_count": null,
   "id": "5e33960f-39e0-4eef-a9f7-aff193e4b767",
   "metadata": {},
   "outputs": [],
   "source": []
  }
 ],
 "metadata": {
  "kernelspec": {
   "display_name": "Python 3 (ipykernel)",
   "language": "python",
   "name": "python3"
  },
  "language_info": {
   "codemirror_mode": {
    "name": "ipython",
    "version": 3
   },
   "file_extension": ".py",
   "mimetype": "text/x-python",
   "name": "python",
   "nbconvert_exporter": "python",
   "pygments_lexer": "ipython3",
   "version": "3.13.2"
  }
 },
 "nbformat": 4,
 "nbformat_minor": 5
}
