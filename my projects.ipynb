{
 "cells": [
  {
   "cell_type": "code",
   "execution_count": 1,
   "id": "72e81476-339c-4b5a-910b-d7b0bba03ba0",
   "metadata": {},
   "outputs": [
    {
     "name": "stdout",
     "output_type": "stream",
     "text": [
      "the value of a is  10 and the value of b is 5 after the swap\n"
     ]
    }
   ],
   "source": [
    "a=5\n",
    "b=10\n",
    "a=a+b\n",
    "b=a-b\n",
    "a=a-b\n",
    "print(\"the value of a is \",a,\"and the value of b is\",b,\"after the swap\")"
   ]
  },
  {
   "cell_type": "code",
   "execution_count": 4,
   "id": "28aa63b9-efe8-401d-8d51-e894ba4c56da",
   "metadata": {},
   "outputs": [
    {
     "name": "stdin",
     "output_type": "stream",
     "text": [
      "type your number: -12\n"
     ]
    },
    {
     "name": "stdout",
     "output_type": "stream",
     "text": [
      "NEGATIVE!\n"
     ]
    }
   ],
   "source": [
    "number=int(input(\"type your number:\"))\n",
    "if number>0:\n",
    "    print(\"POSITIVE!\")\n",
    "elif number<0:\n",
    "    print(\"NEGATIVE!\")\n",
    "else:\n",
    "    print(\"ZERO!\")"
   ]
  },
  {
   "cell_type": "code",
   "execution_count": 8,
   "id": "4ef55bf2-bcbc-457c-b3e0-95f58a9d982c",
   "metadata": {},
   "outputs": [
    {
     "name": "stdin",
     "output_type": "stream",
     "text": [
      "type your digit: 3\n"
     ]
    },
    {
     "name": "stdout",
     "output_type": "stream",
     "text": [
      "3 IS AN OLD NUMBER!\n"
     ]
    }
   ],
   "source": [
    "digit=int(input(\"type your digit:\"))\n",
    "if digit%2==0:\n",
    "    print(digit,\"IS AN EVEN NUMBER!\")\n",
    "else:\n",
    "    print(digit,\"IS AN OLD NUMBER!\")\n",
    "    "
   ]
  },
  {
   "cell_type": "code",
   "execution_count": 13,
   "id": "409f8d8b-767b-492e-a676-2bc1bd40534c",
   "metadata": {},
   "outputs": [
    {
     "name": "stdin",
     "output_type": "stream",
     "text": [
      "write your first number: 1\n",
      "write your second number: 2\n",
      "write your third number: 3\n"
     ]
    },
    {
     "name": "stdout",
     "output_type": "stream",
     "text": [
      "3\n"
     ]
    }
   ],
   "source": [
    "first=int(input(\"write your first number:\"))\n",
    "second=int(input(\"write your second number:\"))\n",
    "third=int(input(\"write your third number:\"))\n",
    "if first>second and first>third:\n",
    "    print(first)\n",
    "elif second>first and second>third:\n",
    "    print (second)\n",
    "elif third>first and third>second:\n",
    "    print(third)\n",
    "                "
   ]
  },
  {
   "cell_type": "code",
   "execution_count": 4,
   "id": "a57639ee-f6c0-4853-8f59-3553356a07b6",
   "metadata": {},
   "outputs": [
    {
     "name": "stdin",
     "output_type": "stream",
     "text": [
      "type your number to be mutiplied 2\n"
     ]
    },
    {
     "name": "stdout",
     "output_type": "stream",
     "text": [
      "2\n",
      "4\n",
      "6\n",
      "8\n",
      "10\n",
      "12\n",
      "14\n",
      "16\n",
      "18\n",
      "20\n"
     ]
    }
   ],
   "source": [
    "no_to_be_mutiplied=int(input(\"type your number to be mutiplied\"))\n",
    "for num in range(1,11):\n",
    "    print(no_to_be_mutiplied*num)"
   ]
  },
  {
   "cell_type": "code",
   "execution_count": 13,
   "id": "a63b9518-7ce6-4ce2-8cb8-0de7f2bf7098",
   "metadata": {},
   "outputs": [
    {
     "name": "stdin",
     "output_type": "stream",
     "text": [
      "type your number: 2\n"
     ]
    },
    {
     "name": "stdout",
     "output_type": "stream",
     "text": [
      "3\n"
     ]
    }
   ],
   "source": [
    "number=int(input(\"type your number:\"))\n",
    "result=0\n",
    "while result<=number:\n",
    "    result=result+1\n",
    "    for a in range(number):\n",
    "        add=result\n",
    "print(add)\n",
    "    "
   ]
  },
  {
   "cell_type": "code",
   "execution_count": 73,
   "id": "b7e921c2-a18a-440c-8575-4a64e5d9dd8d",
   "metadata": {},
   "outputs": [
    {
     "name": "stdin",
     "output_type": "stream",
     "text": [
      "write what you want love\n"
     ]
    },
    {
     "name": "stdout",
     "output_type": "stream",
     "text": [
      "2\n"
     ]
    }
   ],
   "source": [
    "words=input(\"write what you want\").lower()\n",
    "count=0\n",
    "has_vowels=False\n",
    "for char in words:\n",
    "    if char==\"a\" or char== \"e\" or char== \"i\" or char== \"o\" or char==\"u\":\n",
    "        has_vowels=True\n",
    "        count+=1\n",
    "if has_vowels:\n",
    "    print(count)\n",
    "else:\n",
    "    print(\"does not contain vowels\")   "
   ]
  },
  {
   "cell_type": "code",
   "execution_count": 77,
   "id": "60a3d90e-2f1d-45ac-b666-acf27054767c",
   "metadata": {},
   "outputs": [
    {
     "name": "stdin",
     "output_type": "stream",
     "text": [
      "write your words: diana\n"
     ]
    },
    {
     "name": "stdout",
     "output_type": "stream",
     "text": [
      "i\n",
      "a\n",
      "a\n"
     ]
    }
   ],
   "source": [
    "paragraph=input(\"write your words:\").lower()\n",
    "has_vowels=False\n",
    "for char in paragraph:\n",
    "    if (char==\"a\" or char== \"e\" or char== \"i\" or char== \"o\" or char== \"u\"):\n",
    "        has_vowels=True\n",
    "        print(char)"
   ]
  },
  {
   "cell_type": "code",
   "execution_count": null,
   "id": "1980a5b5-c927-4de8-9111-d0eb9851c085",
   "metadata": {},
   "outputs": [],
   "source": []
  }
 ],
 "metadata": {
  "kernelspec": {
   "display_name": "Python 3 (ipykernel)",
   "language": "python",
   "name": "python3"
  },
  "language_info": {
   "codemirror_mode": {
    "name": "ipython",
    "version": 3
   },
   "file_extension": ".py",
   "mimetype": "text/x-python",
   "name": "python",
   "nbconvert_exporter": "python",
   "pygments_lexer": "ipython3",
   "version": "3.13.2"
  }
 },
 "nbformat": 4,
 "nbformat_minor": 5
}
