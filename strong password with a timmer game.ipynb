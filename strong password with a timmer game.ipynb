{
 "cells": [
  {
   "cell_type": "code",
   "execution_count": null,
   "id": "a34669bd-df18-497f-b937-403dacc50164",
   "metadata": {},
   "outputs": [],
   "source": []
  },
  {
   "cell_type": "code",
   "execution_count": 113,
   "id": "ae27f156-b1a7-410b-84b9-4d83cf8ef4b5",
   "metadata": {},
   "outputs": [
    {
     "name": "stdin",
     "output_type": "stream",
     "text": [
      "type your password: ajdkjngiuAJIR1$\n"
     ]
    },
    {
     "name": "stdout",
     "output_type": "stream",
     "text": [
      "strong password\n"
     ]
    }
   ],
   "source": [
    "password=input(\"type your password:\")\n",
    "has_lowercase=False\n",
    "has_uppercase=False\n",
    "has_digit=False\n",
    "has_symbol=False\n",
    "length_password=0\n",
    "for cha in password:\n",
    "    length_password+=1\n",
    "    if \"A\"<=cha<=\"Z\":\n",
    "        has_uppercase=True\n",
    "    elif \"a\"<=cha<=\"z\":\n",
    "        has_lowercase=True\n",
    "    elif \"0\"<=cha<=\"9\":\n",
    "        has_digit=True\n",
    "    elif cha!=has_uppercase and cha!=has_lowercase and cha!=has_digit:\n",
    "        has_symbol=True\n",
    "if length_password<8:\n",
    "    print(\"password should contain atleast 8 characters\")\n",
    "elif has_uppercase and has_lowercase and has_digit and has_symbol:\n",
    "    print(\"strong password\")\n",
    "else:\n",
    "    print(\"weak password your password should atleast contain one uppercase, one lowecase ,one digit\")"
   ]
  },
  {
   "cell_type": "code",
   "execution_count": 1,
   "id": "c759e92d-72d8-4dd3-bf92-07f2a68a94ac",
   "metadata": {},
   "outputs": [
    {
     "name": "stdin",
     "output_type": "stream",
     "text": [
      "type ur number 3\n"
     ]
    },
    {
     "name": "stdout",
     "output_type": "stream",
     "text": [
      "3\n"
     ]
    },
    {
     "name": "stdin",
     "output_type": "stream",
     "text": [
      "tap enter to continue or type 'stop' to end stop\n"
     ]
    },
    {
     "name": "stdout",
     "output_type": "stream",
     "text": [
      "timmmer stopped\n"
     ]
    }
   ],
   "source": [
    "count_down=int(input(\"type ur number\"))\n",
    "for i in range(count_down,0,-1):\n",
    "    print(i)\n",
    "    usser=input(\"tap enter to continue or type 'stop' to end\").lower()\n",
    "    if usser==\"stop\":\n",
    "        print(\"timmmer stopped\")\n",
    "        break\n",
    "        print(\"timmer ended\")"
   ]
  },
  {
   "cell_type": "code",
   "execution_count": 1,
   "id": "ec807505-98f2-4bbd-9bfe-a26dfb8451c8",
   "metadata": {},
   "outputs": [
    {
     "name": "stdout",
     "output_type": "stream",
     "text": [
      "tha value of a is 10 and the value of b is 5 after swapping\n"
     ]
    }
   ],
   "source": [
    "a=5\n",
    "b=10\n",
    "a=a+b\n",
    "b=a-b\n",
    "a=a-b\n",
    "print(\"tha value of a is\",a,\"and the value of b is\",b, \"after swapping\")"
   ]
  },
  {
   "cell_type": "code",
   "execution_count": null,
   "id": "06e5d08e-fcdc-4906-be0c-8b4e9e6911a9",
   "metadata": {},
   "outputs": [],
   "source": []
  }
 ],
 "metadata": {
  "kernelspec": {
   "display_name": "Python 3 (ipykernel)",
   "language": "python",
   "name": "python3"
  },
  "language_info": {
   "codemirror_mode": {
    "name": "ipython",
    "version": 3
   },
   "file_extension": ".py",
   "mimetype": "text/x-python",
   "name": "python",
   "nbconvert_exporter": "python",
   "pygments_lexer": "ipython3",
   "version": "3.13.2"
  }
 },
 "nbformat": 4,
 "nbformat_minor": 5
}
