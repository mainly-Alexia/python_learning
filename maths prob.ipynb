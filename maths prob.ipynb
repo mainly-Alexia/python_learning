{
 "cells": [
  {
   "cell_type": "code",
   "execution_count": 1,
   "id": "2bb5926b-c455-4088-a5b5-beb2451d5f21",
   "metadata": {},
   "outputs": [
    {
     "name": "stdin",
     "output_type": "stream",
     "text": [
      "number of weight given 40\n",
      "how long 5\n"
     ]
    },
    {
     "name": "stdout",
     "output_type": "stream",
     "text": [
      "the BIM caculator shows 1.6 kg/m when the weight is 40.0 kg and the height is 5.0 m\n"
     ]
    }
   ],
   "source": [
    "weight=float(input(\"number of weight given\"))\n",
    "height=float(input(\"how long\"))\n",
    "bim_cacu=weight/height**2\n",
    "print(\"the BIM caculator shows\",bim_cacu,\"kg/m when the weight is\",weight,\"kg and the height is\",height,\"m\")"
   ]
  },
  {
   "cell_type": "code",
   "execution_count": 8,
   "id": "85f0f9e4-f2d7-4488-8cd8-220561cf0626",
   "metadata": {},
   "outputs": [
    {
     "name": "stdin",
     "output_type": "stream",
     "text": [
      "amount of the original servings: 500\n",
      "amount of the new servings: 2000\n"
     ]
    },
    {
     "name": "stdout",
     "output_type": "stream",
     "text": [
      "the adjusting factor is 4.0 when the original servings given is 500 and the new servings is 2000\n"
     ]
    }
   ],
   "source": [
    "og_servings=int(input(\"amount of the original servings:\"))\n",
    "new_servings=int(input(\"amount of the new servings:\"))\n",
    "adju_factor=new_servings/og_servings\n",
    "print(\"the adjusting factor is\",adju_factor,\"when the original servings given is\",og_servings,\"and the new servings is\",new_servings)"
   ]
  },
  {
   "cell_type": "code",
   "execution_count": 10,
   "id": "c7875d77-f41e-48fa-b77d-a86fdab383eb",
   "metadata": {},
   "outputs": [],
   "source": [
    "rd_place=\"broze\""
   ]
  },
  {
   "cell_type": "code",
   "execution_count": 11,
   "id": "c9488e5e-5613-45ff-b7f4-fac8dc941fcb",
   "metadata": {},
   "outputs": [
    {
     "name": "stdout",
     "output_type": "stream",
     "text": [
      "seventy-five kg\n"
     ]
    }
   ],
   "source": [
    "weight=75,5\n",
    "weight=\"seventy-five kg\"\n",
    "print(weight)"
   ]
  },
  {
   "cell_type": "code",
   "execution_count": null,
   "id": "e09b3710-da07-4559-83a5-6abd68223f57",
   "metadata": {},
   "outputs": [],
   "source": []
  },
  {
   "cell_type": "code",
   "execution_count": null,
   "id": "0672619e-3b6f-4231-b59b-931fd0e49d8f",
   "metadata": {},
   "outputs": [],
   "source": []
  }
 ],
 "metadata": {
  "kernelspec": {
   "display_name": "Python 3 (ipykernel)",
   "language": "python",
   "name": "python3"
  },
  "language_info": {
   "codemirror_mode": {
    "name": "ipython",
    "version": 3
   },
   "file_extension": ".py",
   "mimetype": "text/x-python",
   "name": "python",
   "nbconvert_exporter": "python",
   "pygments_lexer": "ipython3",
   "version": "3.13.2"
  }
 },
 "nbformat": 4,
 "nbformat_minor": 5
}
