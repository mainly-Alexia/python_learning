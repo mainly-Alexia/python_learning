{
 "cells": [
  {
   "cell_type": "code",
   "execution_count": 13,
   "id": "25ef3e32-461e-4c93-bc15-9fb4314f4388",
   "metadata": {},
   "outputs": [
    {
     "name": "stdin",
     "output_type": "stream",
     "text": [
      "type your ussername diane\n",
      "type your password 1999\n"
     ]
    }
   ],
   "source": [
    "register=input(\"type your ussername\")\n",
    "password=int(input(\"type your password\"))"
   ]
  },
  {
   "cell_type": "code",
   "execution_count": 16,
   "id": "9bc65b43-c91a-4abc-8014-b5ba8683b151",
   "metadata": {},
   "outputs": [
    {
     "name": "stdout",
     "output_type": "stream",
     "text": [
      " to log in fill in the following:\n"
     ]
    },
    {
     "name": "stdin",
     "output_type": "stream",
     "text": [
      "type the name registered diane\n",
      "type the password 1999\n"
     ]
    }
   ],
   "source": [
    "print(\" to log in fill in the following:\")\n",
    "ussername=input(\"type the name registered\")\n",
    "pin=int(input(\"type the password\"))"
   ]
  },
  {
   "cell_type": "code",
   "execution_count": 19,
   "id": "a24afdd1-15ec-4c9d-a3ec-e727fdfd73e3",
   "metadata": {},
   "outputs": [
    {
     "name": "stdout",
     "output_type": "stream",
     "text": [
      "the usser diane has loged in using the pin 1999\n"
     ]
    }
   ],
   "source": [
    "if (register==ussername and password==pin):\n",
    "    print(f\"the usser {ussername} has loged in using the pin {pin}\")"
   ]
  },
  {
   "cell_type": "code",
   "execution_count": null,
   "id": "b379bd77-5893-40e2-ab03-75c74a46a7ce",
   "metadata": {},
   "outputs": [],
   "source": [
    "value=100\n",
    "name="
   ]
  },
  {
   "cell_type": "code",
   "execution_count": null,
   "id": "6f30ef6b-6757-4ec4-a4d4-d2fdbe1d71ed",
   "metadata": {},
   "outputs": [],
   "source": []
  }
 ],
 "metadata": {
  "kernelspec": {
   "display_name": "Python 3 (ipykernel)",
   "language": "python",
   "name": "python3"
  },
  "language_info": {
   "codemirror_mode": {
    "name": "ipython",
    "version": 3
   },
   "file_extension": ".py",
   "mimetype": "text/x-python",
   "name": "python",
   "nbconvert_exporter": "python",
   "pygments_lexer": "ipython3",
   "version": "3.13.2"
  }
 },
 "nbformat": 4,
 "nbformat_minor": 5
}
