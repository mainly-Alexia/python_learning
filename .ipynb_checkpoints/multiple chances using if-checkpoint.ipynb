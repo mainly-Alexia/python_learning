{
 "cells": [
  {
   "cell_type": "code",
   "execution_count": 7,
   "id": "1a18a72d-21e2-4c80-8574-e603923ef338",
   "metadata": {},
   "outputs": [
    {
     "name": "stdin",
     "output_type": "stream",
     "text": [
      "value given to the given 3rd number broze\n"
     ]
    }
   ],
   "source": [
    "_3rd_place=input(\"value given to the given 3rd number\")"
   ]
  },
  {
   "cell_type": "code",
   "execution_count": 6,
   "id": "990a25c9-f989-43c0-adfc-d86bc1498a48",
   "metadata": {},
   "outputs": [
    {
     "name": "stdin",
     "output_type": "stream",
     "text": [
      "value1: 100\n",
      "value2: one hudred\n"
     ]
    },
    {
     "name": "stdout",
     "output_type": "stream",
     "text": [
      "one hudred\n"
     ]
    }
   ],
   "source": [
    "value=input(\"value1:\")\n",
    "value=input(\"value2:\")\n",
    "print(value)"
   ]
  },
  {
   "cell_type": "code",
   "execution_count": 5,
   "id": "8d430145-6558-498d-a396-d13a5c6eb50c",
   "metadata": {},
   "outputs": [
    {
     "name": "stdin",
     "output_type": "stream",
     "text": [
      "place the value of x: 5\n",
      "place the value of y: 7\n"
     ]
    },
    {
     "name": "stdout",
     "output_type": "stream",
     "text": [
      "7 5\n"
     ]
    }
   ],
   "source": [
    "x=input(\"place the value of x:\")\n",
    "y=input(\"place the value of y:\")\n",
    "x,y=y,x\n",
    "print(x,y)"
   ]
  },
  {
   "cell_type": "code",
   "execution_count": 13,
   "id": "b08b1cb6-ecc9-4588-ab35-01cb78a8aa6a",
   "metadata": {},
   "outputs": [
    {
     "name": "stdin",
     "output_type": "stream",
     "text": [
      "the temperature given 28\n",
      "is it twmperature>30\n"
     ]
    },
    {
     "name": "stdout",
     "output_type": "stream",
     "text": [
      "True\n"
     ]
    }
   ],
   "source": [
    "temperature=input(\"the temperature given\")\n",
    "is_hot=bool(input('is it'))\n",
    "print(is_hot)\n",
    "\n"
   ]
  },
  {
   "cell_type": "code",
   "execution_count": 14,
   "id": "1ea6fda5-4a76-4f08-a736-66e266541e37",
   "metadata": {},
   "outputs": [
    {
     "name": "stdin",
     "output_type": "stream",
     "text": [
      "number: 75.5\n",
      "the words seventy-five\n"
     ]
    },
    {
     "name": "stdout",
     "output_type": "stream",
     "text": [
      "seventy-five\n"
     ]
    }
   ],
   "source": [
    "weight=float(input(\"number:\"))\n",
    "weight=input('the words')\n",
    "print(weight)"
   ]
  },
  {
   "cell_type": "code",
   "execution_count": 15,
   "id": "c7d129f9-8799-40cb-b18a-2c1d89e019ee",
   "metadata": {},
   "outputs": [
    {
     "name": "stdin",
     "output_type": "stream",
     "text": [
      "first country canada\n",
      "second country mexico\n"
     ]
    },
    {
     "ename": "NameError",
     "evalue": "name 'Country' is not defined",
     "output_type": "error",
     "traceback": [
      "\u001b[1;31m---------------------------------------------------------------------------\u001b[0m",
      "\u001b[1;31mNameError\u001b[0m                                 Traceback (most recent call last)",
      "Cell \u001b[1;32mIn[15], line 3\u001b[0m\n\u001b[0;32m      1\u001b[0m COUNTRY\u001b[38;5;241m=\u001b[39m\u001b[38;5;28minput\u001b[39m(\u001b[38;5;124m\"\u001b[39m\u001b[38;5;124mfirst country\u001b[39m\u001b[38;5;124m\"\u001b[39m)\n\u001b[0;32m      2\u001b[0m country\u001b[38;5;241m=\u001b[39m\u001b[38;5;28minput\u001b[39m(\u001b[38;5;124m\"\u001b[39m\u001b[38;5;124msecond country\u001b[39m\u001b[38;5;124m\"\u001b[39m)\n\u001b[1;32m----> 3\u001b[0m \u001b[38;5;28mprint\u001b[39m(\u001b[43mCountry\u001b[49m)\n",
      "\u001b[1;31mNameError\u001b[0m: name 'Country' is not defined"
     ]
    }
   ],
   "source": [
    "COUNTRY=input(\"first country\")\n",
    "country=input(\"second country\")\n",
    "print(Country)"
   ]
  },
  {
   "cell_type": "code",
   "execution_count": 17,
   "id": "d19b9143-89a5-409c-9c4c-14b758fec341",
   "metadata": {},
   "outputs": [
    {
     "name": "stdin",
     "output_type": "stream",
     "text": [
      "the value of a: 15\n",
      "the value of b 4\n"
     ]
    },
    {
     "name": "stdout",
     "output_type": "stream",
     "text": [
      "4.0 15.0\n"
     ]
    }
   ],
   "source": [
    "a=int(input(\"the value of a:\"))\n",
    "b=int(input(\"the value of b\"))\n",
    "a=b*a\n",
    "b=a/b\n",
    "a=a/b\n",
    "print(a,b)"
   ]
  },
  {
   "cell_type": "code",
   "execution_count": 20,
   "id": "335d54b5-3244-43ec-b3e1-1aafda739cb8",
   "metadata": {},
   "outputs": [
    {
     "name": "stdin",
     "output_type": "stream",
     "text": [
      "name of the class chemistry101\n"
     ]
    },
    {
     "name": "stdout",
     "output_type": "stream",
     "text": [
      "chemistry101\n"
     ]
    }
   ],
   "source": [
    "_class=input(\"name of the class\")\n",
    "print(_class)"
   ]
  },
  {
   "cell_type": "code",
   "execution_count": 21,
   "id": "c651295a-4177-4f6c-995f-ac3823ba3cf8",
   "metadata": {},
   "outputs": [
    {
     "name": "stdin",
     "output_type": "stream",
     "text": [
      "number: 95\n"
     ]
    },
    {
     "name": "stdout",
     "output_type": "stream",
     "text": [
      "final scole:95\n"
     ]
    }
   ],
   "source": [
    "score=input(\"number:\")\n",
    "print(\"final scole:\"+score)"
   ]
  },
  {
   "cell_type": "code",
   "execution_count": 24,
   "id": "43853734-4142-43fa-bd82-d70919fb0bab",
   "metadata": {},
   "outputs": [
    {
     "name": "stdin",
     "output_type": "stream",
     "text": [
      "your name diane\n",
      "your age: 19\n",
      "are you a student: true\n"
     ]
    }
   ],
   "source": [
    "name,age,is_student=input(\"your name\"),int(input(\"your age:\")),bool(input(\"are you a student:\"))\n",
    "                                                                   "
   ]
  },
  {
   "cell_type": "code",
   "execution_count": 26,
   "id": "57ab3d7b-9f6e-45fb-a7a3-ddeaa3d157f7",
   "metadata": {},
   "outputs": [
    {
     "name": "stdin",
     "output_type": "stream",
     "text": [
      "type the result: 32.5\n"
     ]
    },
    {
     "name": "stdout",
     "output_type": "stream",
     "text": [
      "<class 'float'>\n"
     ]
    }
   ],
   "source": [
    "result=float(input(\"type the result:\"))\n",
    "print(type(result))"
   ]
  },
  {
   "cell_type": "code",
   "execution_count": 27,
   "id": "bcbea88b-9322-4d24-8ee7-a6ada3fd3738",
   "metadata": {},
   "outputs": [
    {
     "name": "stdin",
     "output_type": "stream",
     "text": [
      "the price: 19\n"
     ]
    },
    {
     "ename": "NameError",
     "evalue": "name 'price3' is not defined",
     "output_type": "error",
     "traceback": [
      "\u001b[1;31m---------------------------------------------------------------------------\u001b[0m",
      "\u001b[1;31mNameError\u001b[0m                                 Traceback (most recent call last)",
      "Cell \u001b[1;32mIn[27], line 2\u001b[0m\n\u001b[0;32m      1\u001b[0m price\u001b[38;5;241m=\u001b[39m\u001b[38;5;28minput\u001b[39m(\u001b[38;5;124m\"\u001b[39m\u001b[38;5;124mthe price:\u001b[39m\u001b[38;5;124m\"\u001b[39m)\n\u001b[1;32m----> 2\u001b[0m total\u001b[38;5;241m=\u001b[39m\u001b[43mprice3\u001b[49m\n\u001b[0;32m      3\u001b[0m \u001b[38;5;28mprint\u001b[39m(total)\n",
      "\u001b[1;31mNameError\u001b[0m: name 'price3' is not defined"
     ]
    }
   ],
   "source": [
    "price=input(\"the price:\")\n",
    "total=price3\n",
    "print(total)"
   ]
  },
  {
   "cell_type": "code",
   "execution_count": 32,
   "id": "600daeb0-e225-424a-82c8-3229d8b6ea6e",
   "metadata": {},
   "outputs": [
    {
     "name": "stdin",
     "output_type": "stream",
     "text": [
      "your age 23\n"
     ]
    },
    {
     "name": "stdout",
     "output_type": "stream",
     "text": [
      "you can vote\n"
     ]
    }
   ],
   "source": [
    "age=int(input( \"your age\"))\n",
    "if age>=18:\n",
    "    print(\"you can vote\")"
   ]
  },
  {
   "cell_type": "code",
   "execution_count": 39,
   "id": "cf5df8d4-3bb6-42d9-840f-55b892c8cf9a",
   "metadata": {},
   "outputs": [
    {
     "name": "stdin",
     "output_type": "stream",
     "text": [
      "indicace whether male/female: male\n"
     ]
    },
    {
     "name": "stdout",
     "output_type": "stream",
     "text": [
      "sorry females only\n"
     ]
    }
   ],
   "source": [
    "gender=input(\"indicace whether male/female:\")\n",
    "if gender=='female':\n",
    "    print(\"WELCOME!\")\n",
    "else:\n",
    "    print(\"sorry females only\")  i\n",
    "    "
   ]
  },
  {
   "cell_type": "code",
   "execution_count": 44,
   "id": "e50cd037-4f3c-4534-832c-7cb54396901a",
   "metadata": {},
   "outputs": [
    {
     "name": "stdout",
     "output_type": "stream",
     "text": [
      "1.programming 2.medicine 3.law\n"
     ]
    },
    {
     "name": "stdin",
     "output_type": "stream",
     "text": [
      "type your choice: 2\n"
     ]
    },
    {
     "name": "stdout",
     "output_type": "stream",
     "text": [
      "welcome to medicine\n"
     ]
    }
   ],
   "source": [
    " print(\"1.programming 2.medicine 3.law\")\n",
    "choice=int(input(\"type your choice:\"))\n",
    "if choice==1:\n",
    "    print(\"welcome to programming\")\n",
    "elif choice==2:\n",
    "    print(\"welcome to medicine\")\n",
    "elif choice==3:\n",
    "    print(\"welcome to law\")\n",
    "else:\n",
    "    print(\"invalid\")"
   ]
  },
  {
   "cell_type": "code",
   "execution_count": null,
   "id": "caa2a412-72e6-4882-9d13-8af3a504b538",
   "metadata": {},
   "outputs": [],
   "source": []
  }
 ],
 "metadata": {
  "kernelspec": {
   "display_name": "Python 3 (ipykernel)",
   "language": "python",
   "name": "python3"
  },
  "language_info": {
   "codemirror_mode": {
    "name": "ipython",
    "version": 3
   },
   "file_extension": ".py",
   "mimetype": "text/x-python",
   "name": "python",
   "nbconvert_exporter": "python",
   "pygments_lexer": "ipython3",
   "version": "3.13.2"
  }
 },
 "nbformat": 4,
 "nbformat_minor": 5
}
