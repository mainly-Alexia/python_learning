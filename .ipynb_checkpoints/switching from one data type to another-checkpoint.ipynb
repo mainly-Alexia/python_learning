{
 "cells": [
  {
   "cell_type": "code",
   "execution_count": 6,
   "id": "0b605e70-e0d1-4f66-b1de-537392300cfa",
   "metadata": {},
   "outputs": [
    {
     "name": "stdin",
     "output_type": "stream",
     "text": [
      "number of kilometer 1\n"
     ]
    },
    {
     "name": "stdout",
     "output_type": "stream",
     "text": [
      "0.621371\n"
     ]
    }
   ],
   "source": [
    "kilometer=input(\"number of kilometer\")\n",
    "main_kilometer=float(kilometer)\n",
    "miles=main_kilometer*0.621371\n",
    "print(miles)"
   ]
  },
  {
   "cell_type": "code",
   "execution_count": 7,
   "id": "ead07b6e-bb6c-4ab9-aafd-c790bfa7e5a3",
   "metadata": {},
   "outputs": [
    {
     "name": "stdin",
     "output_type": "stream",
     "text": [
      "number of weight given 2\n",
      "how long 3\n"
     ]
    },
    {
     "name": "stdout",
     "output_type": "stream",
     "text": [
      "0.6666666666666666\n"
     ]
    }
   ],
   "source": [
    "weight=float(input(\"number of weight given\"))\n",
    "height=float(input(\"how long\"))\n",
    "bim=weight/height\n",
    "print(bim)"
   ]
  },
  {
   "cell_type": "code",
   "execution_count": 8,
   "id": "cd00c4ab-019f-4de7-9c41-d11b4a5e3c3b",
   "metadata": {},
   "outputs": [
    {
     "name": "stdin",
     "output_type": "stream",
     "text": [
      "amount of the original servings 500\n",
      "amount of the new servings 1500\n"
     ]
    },
    {
     "name": "stdout",
     "output_type": "stream",
     "text": [
      "3.0\n"
     ]
    }
   ],
   "source": [
    "og_servings=int(input(\"amount of the original servings\"))\n",
    "new_servings=int(input(\"amount of the new servings\"))\n",
    "adju_factor=new_servings/og_servings\n",
    "print(adju_factor)\n"
   ]
  },
  {
   "cell_type": "code",
   "execution_count": null,
   "id": "3e9957f5-6e1b-48c8-ba24-ea63973e6028",
   "metadata": {},
   "outputs": [],
   "source": [
    "km_input=input(\"enter kilometer\")\n"
   ]
  },
  {
   "cell_type": "code",
   "execution_count": null,
   "id": "1d9401e1-f18c-479c-996b-738024485b42",
   "metadata": {},
   "outputs": [],
   "source": [
    "weight=input('reading')\n"
   ]
  },
  {
   "cell_type": "code",
   "execution_count": null,
   "id": "dd2a81ff-6dc9-41fc-bd7e-a3472851664d",
   "metadata": {},
   "outputs": [],
   "source": [
    "weight_input=input('reading')\n"
   ]
  },
  {
   "cell_type": "code",
   "execution_count": 1,
   "id": "52c07ef9-c57d-415a-af34-822957c365e1",
   "metadata": {},
   "outputs": [
    {
     "ename": "NameError",
     "evalue": "name 'weight_input' is not defined",
     "output_type": "error",
     "traceback": [
      "\u001b[1;31m---------------------------------------------------------------------------\u001b[0m",
      "\u001b[1;31mNameError\u001b[0m                                 Traceback (most recent call last)",
      "Cell \u001b[1;32mIn[1], line 1\u001b[0m\n\u001b[1;32m----> 1\u001b[0m weightinfloat\u001b[38;5;241m=\u001b[39m\u001b[38;5;28mfloat\u001b[39m(\u001b[43mweight_input\u001b[49m)\n",
      "\u001b[1;31mNameError\u001b[0m: name 'weight_input' is not defined"
     ]
    }
   ],
   "source": [
    "weightinfloat=float(weight_input)\n"
   ]
  },
  {
   "cell_type": "code",
   "execution_count": 2,
   "id": "7b2aceeb-c539-4670-909c-1aa20519743b",
   "metadata": {},
   "outputs": [
    {
     "data": {
      "text/plain": [
       "1"
      ]
     },
     "execution_count": 2,
     "metadata": {},
     "output_type": "execute_result"
    }
   ],
   "source": [
    "1**3\n"
   ]
  },
  {
   "cell_type": "code",
   "execution_count": null,
   "id": "acd9c56a-c9ae-4acb-b8fb-7b39408b6060",
   "metadata": {},
   "outputs": [],
   "source": []
  }
 ],
 "metadata": {
  "kernelspec": {
   "display_name": "Python 3 (ipykernel)",
   "language": "python",
   "name": "python3"
  },
  "language_info": {
   "codemirror_mode": {
    "name": "ipython",
    "version": 3
   },
   "file_extension": ".py",
   "mimetype": "text/x-python",
   "name": "python",
   "nbconvert_exporter": "python",
   "pygments_lexer": "ipython3",
   "version": "3.13.2"
  }
 },
 "nbformat": 4,
 "nbformat_minor": 5
}
