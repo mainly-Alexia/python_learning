{
 "cells": [
  {
   "cell_type": "code",
   "execution_count": 9,
   "id": "a58c4d8b-b5a6-41eb-b1be-5f2a6df3ef26",
   "metadata": {},
   "outputs": [
    {
     "name": "stdout",
     "output_type": "stream",
     "text": [
      "number has been added\n"
     ]
    }
   ],
   "source": [
    "contract={}\n",
    "def add_contract(contract:dict,name:str,phone:str):\n",
    "    if name==contract and phone==contract:\n",
    "        print(\"do you want to overwrite the phone number\")\n",
    "    elif name!=contract and phone!=contract:\n",
    "        contract[\"name\"]=phone\n",
    "        print(\"number has been added\")\n",
    "    else:\n",
    "        print(contact)\n",
    "\n",
    "add_contract(contract,\"diana\",\"09924256\")\n",
    "            "
   ]
  },
  {
   "cell_type": "code",
   "execution_count": 5,
   "id": "7835754f-3fe6-40a8-a8de-ce20211b1393",
   "metadata": {},
   "outputs": [],
   "source": [
    "def add_contact(contacts:dict,name:str,phone:str):\n",
    "    if contacts.get(name) is None:\n",
    "        contacts[name]=phone\n",
    "        print(f\"{name} has been added\")\n",
    "    else:\n",
    "        message=input(\"do you want to edit(yess/no)\")\n",
    "        if message==\"yess\":\n",
    "            contacts[name]=phone\n",
    "            print (\"hes been edited\")\n",
    "        elif message==\"no\":\n",
    "            print(\"has not been edited\")\n",
    "        else:\n",
    "            print(\"INVALID OPTION\")\n",
    "            return contact\n",
    "            \n",
    "    "
   ]
  },
  {
   "cell_type": "code",
   "execution_count": 8,
   "id": "9b16f9d2-bd68-4a63-a6b7-34282a2c27f8",
   "metadata": {},
   "outputs": [],
   "source": [
    "def search_contacts(contacts:dict,query:str):\n",
    "    if query in contacts:\n",
    "        print(contacts.get(query))\n",
    "    else:\n",
    "        print (\"contact not found\")\n",
    "    "
   ]
  },
  {
   "cell_type": "code",
   "execution_count": 10,
   "id": "3214478f-b1ab-4142-b9f0-72372a5ec787",
   "metadata": {},
   "outputs": [],
   "source": [
    "contacts={}\n"
   ]
  },
  {
   "cell_type": "code",
   "execution_count": 11,
   "id": "983bfe22-de79-4cca-a97d-5efa9241ec9f",
   "metadata": {},
   "outputs": [
    {
     "name": "stdin",
     "output_type": "stream",
     "text": [
      "type the name: diana\n",
      "write the number: 0999\n"
     ]
    },
    {
     "name": "stdout",
     "output_type": "stream",
     "text": [
      "diana has been added\n"
     ]
    }
   ],
   "source": [
    "name=input(\"type the name:\")\n",
    "phone=input(\"write the number:\")\n",
    "add_contact(contacts,name,phone)"
   ]
  },
  {
   "cell_type": "code",
   "execution_count": 14,
   "id": "595bad84-9870-477c-9c08-3044fd5aec97",
   "metadata": {},
   "outputs": [
    {
     "name": "stdin",
     "output_type": "stream",
     "text": [
      "who do you want to search: diana\n"
     ]
    },
    {
     "name": "stdout",
     "output_type": "stream",
     "text": [
      "0999\n"
     ]
    }
   ],
   "source": [
    "query=input(\"who do you want to search:\")\n",
    "search_contacts(contacts,query)"
   ]
  },
  {
   "cell_type": "code",
   "execution_count": 1,
   "id": "dc01592d-adbb-46c0-b20b-93a6b9711208",
   "metadata": {},
   "outputs": [],
   "source": [
    "def update_cart(cart:dict,item_name:str,quantity:int)->dict:\n",
    "    if cart.get(item_name) is None:\n",
    "        cart[item_name]=quantity\n",
    "        print(f\"{item_name} has been added to the cart\")\n",
    "    elif quantity==0:\n",
    "        cart.pop(item_name)\n",
    "        print(f\"{item_name} has been deleted\")\n",
    "    else: \n",
    "        cart[item_name]=quantity\n",
    "        print(f\"{item_name} has been modified\")\n",
    "        return cart\n",
    "    \n",
    "        "
   ]
  },
  {
   "cell_type": "code",
   "execution_count": 2,
   "id": "c8925a3e-9d62-4ecb-96eb-13915be60ed6",
   "metadata": {},
   "outputs": [],
   "source": [
    "cart={}"
   ]
  },
  {
   "cell_type": "code",
   "execution_count": null,
   "id": "2f78ee07-7fb4-44f7-b743-ee40ab78d8f3",
   "metadata": {},
   "outputs": [],
   "source": [
    "item_name=input(\"type u r package:\")\n",
    "quantity=int(input(\"type the quantity:\"))\n",
    "update_cart(cart,item_name,quantity)"
   ]
  },
  {
   "cell_type": "code",
   "execution_count": 42,
   "id": "d39ee4d7-c147-4a40-8109-21ad448216f3",
   "metadata": {},
   "outputs": [],
   "source": [
    "def notepad(notebook:dict,choice:int):\n",
    "    while True:\n",
    "        if choice==1:\n",
    "            print(\"call the function:'add_note' with a parameter notebook\")\n",
    "            break\n",
    "        elif choice==2:\n",
    "            for key,value in notebook.items():\n",
    "                print(key,\":\",value)\n",
    "                break\n",
    "        elif choice==3:\n",
    "            print(\"call the function:'search_note'with  palameters notebook and title\")\n",
    "            break\n",
    "        elif choice==4:\n",
    "            print(\"call the function:'delete_note' with palameters notebook and note_title\")\n",
    "            break\n",
    "        else:\n",
    "            choice==5\n",
    "            print(\"program exited\")\n",
    "            break\n",
    "        \n",
    "        \n",
    "        "
   ]
  },
  {
   "cell_type": "code",
   "execution_count": 43,
   "id": "1b4111e0-6d45-4fcb-8c62-7d447123e584",
   "metadata": {},
   "outputs": [],
   "source": [
    "notebook={}"
   ]
  },
  {
   "cell_type": "code",
   "execution_count": 44,
   "id": "e52b9fbb-4522-4d46-aa4b-80f6d9eb095a",
   "metadata": {},
   "outputs": [],
   "source": [
    "def add_note(notebook:dict):\n",
    "    note_title=input(\"type our title:\")\n",
    "    notes=input(\"write the notes\")\n",
    "    notebook[note_title]=notes\n",
    "    print(f\"the note entitled'{note_title}' has been added to the notebook\")\n"
   ]
  },
  {
   "cell_type": "code",
   "execution_count": 45,
   "id": "44032552-affe-4966-a6c3-cfba4ca5e9d1",
   "metadata": {},
   "outputs": [],
   "source": [
    "def view_note(notebook:dict):\n",
    "    for key,value in notebook.items():\n",
    "        print(key,\":\",value)"
   ]
  },
  {
   "cell_type": "code",
   "execution_count": 46,
   "id": "a8a44da0-39f7-4f25-be84-437bee278986",
   "metadata": {},
   "outputs": [],
   "source": [
    "def search_note(notebook:dict,):\n",
    "    title=input(\"type the wanted note \")\n",
    "    if title in notebook:\n",
    "        print (notebook.get(title))\n",
    "    else:\n",
    "        print(\"the notes do on exist in the notebook\")"
   ]
  },
  {
   "cell_type": "code",
   "execution_count": 47,
   "id": "a60a0ce8-2986-41d2-a46d-1722e51c95c8",
   "metadata": {},
   "outputs": [],
   "source": [
    "def delete_note(notebook:dict,):\n",
    "    note_title=input(\"type the title to be deleted:\")\n",
    "    if note_title in notebook:\n",
    "        del notebook[note_title]\n",
    "        print(\"the note has been deleted\")"
   ]
  },
  {
   "cell_type": "code",
   "execution_count": 48,
   "id": "2d12cb45-053d-449f-a796-e6f0986f381b",
   "metadata": {},
   "outputs": [
    {
     "name": "stdout",
     "output_type": "stream",
     "text": [
      "1.add a new note 2.view all notes 3.sarch for a note 4.delete a note 5.exit the program\n"
     ]
    },
    {
     "name": "stdin",
     "output_type": "stream",
     "text": [
      "choose the a number to do a thing 1\n"
     ]
    },
    {
     "name": "stdout",
     "output_type": "stream",
     "text": [
      "call the function:'add_note' with a parameter notebook\n"
     ]
    }
   ],
   "source": [
    "print(\"1.add a new note 2.view all notes 3.sarch for a note 4.delete a note 5.exit the program\")\n",
    "choice=int(input(\"choose the a number to do a thing\"))\n",
    "\n",
    "notepad(notebook,choice)"
   ]
  },
  {
   "cell_type": "code",
   "execution_count": 49,
   "id": "1b154c83-4e44-4ba8-aa5b-9735547e9ac8",
   "metadata": {},
   "outputs": [
    {
     "name": "stdin",
     "output_type": "stream",
     "text": [
      "type our title: life\n",
      "write the notes life is hard\n"
     ]
    },
    {
     "name": "stdout",
     "output_type": "stream",
     "text": [
      "the note entitled'life' has been added to the notebook\n"
     ]
    }
   ],
   "source": [
    "add_note(notebook)"
   ]
  },
  {
   "cell_type": "code",
   "execution_count": 40,
   "id": "fd5a26e0-559e-434e-b5c7-81da774b98ee",
   "metadata": {},
   "outputs": [
    {
     "name": "stdin",
     "output_type": "stream",
     "text": [
      "type the wanted note  life\n"
     ]
    },
    {
     "name": "stdout",
     "output_type": "stream",
     "text": [
      "life is hard\n"
     ]
    }
   ],
   "source": [
    "search_note(notebook,)"
   ]
  },
  {
   "cell_type": "code",
   "execution_count": 50,
   "id": "fd01715f-5e16-418b-a177-0defc77e21c6",
   "metadata": {},
   "outputs": [
    {
     "name": "stdin",
     "output_type": "stream",
     "text": [
      "type the title to be deleted: life\n"
     ]
    },
    {
     "name": "stdout",
     "output_type": "stream",
     "text": [
      "the note has been deleted\n"
     ]
    }
   ],
   "source": [
    "delete_note(notebook)"
   ]
  },
  {
   "cell_type": "code",
   "execution_count": 55,
   "id": "9db04d8c-c804-44ce-b3a9-8d0f9cd7abc4",
   "metadata": {},
   "outputs": [],
   "source": [
    "\n",
    "    \n",
    "\n",
    "\n",
    "def add_event(storage:dict):\n",
    "    name=input(\"write the name of the event\")\n",
    "    infomation=input(\"indicate the date,time and location of the event\")\n",
    "    storage[name]=infomation\n",
    "    print(\"the event has been added\")\n",
    "\n",
    "def view_event(storage:dict):\n",
    "    for key,value in storage.items():\n",
    "        print(key,\":\",value)\n",
    "\n",
    "def search_event(storage:dict):\n",
    "    event=input(\"write the event wanted:\")\n",
    "    if event in storage:\n",
    "        print(storage.get(event))\n",
    "    else:\n",
    "        print (\"event can not be found\")\n",
    "\n",
    "def update_event(storage:dict):\n",
    "    title=input (\"Type the event you want to update:\")\n",
    "    new_infomation=input(\"the new infomation needed\")\n",
    "    storage[title]=new_infomation\n",
    "    print (\"event has been modified\")\n",
    "\n",
    "def delete_event(storage:dict):\n",
    "    what=input(\"type what you want to delete\")\n",
    "    del storage[what]\n",
    "    print(\"event has been deleted \")\n",
    "\n",
    "\n",
    "        \n",
    "\n",
    "    \n",
    "    "
   ]
  },
  {
   "cell_type": "code",
   "execution_count": 56,
   "id": "79b6f036-1d37-4f89-a1b9-bada8a2697cb",
   "metadata": {},
   "outputs": [],
   "source": [
    "storage={}"
   ]
  },
  {
   "cell_type": "code",
   "execution_count": 57,
   "id": "ca91f51c-6c7b-421a-9dc7-10497ba74d1a",
   "metadata": {},
   "outputs": [
    {
     "name": "stdin",
     "output_type": "stream",
     "text": [
      "1. adding an event 2.viewing the events 3.searchin the event 4.updating an event 5.deleting an event 1\n",
      "write the name of the event life\n",
      "indicate the date,time and location of the event 60\n"
     ]
    },
    {
     "name": "stdout",
     "output_type": "stream",
     "text": [
      "the event has been added\n"
     ]
    },
    {
     "name": "stdin",
     "output_type": "stream",
     "text": [
      "1. adding an event 2.viewing the events 3.searchin the event 4.updating an event 5.deleting an event 0\n"
     ]
    },
    {
     "name": "stdout",
     "output_type": "stream",
     "text": [
      "INVALID CHOICE!!\n"
     ]
    }
   ],
   "source": [
    "while True:\n",
    "    menu=int(input(\"1. adding an event 2.viewing the events 3.searchin the event 4.updating an event 5.deleting an event\"))\n",
    "    if menu==1:\n",
    "        add_event(storage)\n",
    "    elif menu==2:\n",
    "        view_event(storage)\n",
    "    elif menu==3:\n",
    "        search_event(storage)\n",
    "    elif menu==4:\n",
    "        update_event(storage)\n",
    "    elif menu==5:\n",
    "        delete_event(storage)\n",
    "        break\n",
    "    else:\n",
    "        print(\"INVALID CHOICE!!\")\n",
    "        break"
   ]
  },
  {
   "cell_type": "code",
   "execution_count": 48,
   "id": "10eb2147-6798-4aad-b8ac-d77938848893",
   "metadata": {},
   "outputs": [],
   "source": [
    "def adopt_pet(pets:dict,pet_name:str,pet_type:str):\n",
    "    \n",
    "    if pet_name in pets:\n",
    "        print(\"pet already present or if you want to update type yess if not type no\")\n",
    "        answer=input(\"yess/no\").lower()\n",
    "        if answer==\"yess\":\n",
    "            name=input(\"name of the pet to update:\")\n",
    "            new_type=input(\"the new infomation\")\n",
    "            pets[name]=new_type\n",
    "            print(\"the pet has been updated\")\n",
    "        else:\n",
    "            print(\"the pet is still the same\")\n",
    "    else:\n",
    "        \n",
    "        pets[pet_name]=pet_type \n",
    "        print(\"pet has been added\")\n",
    "        "
   ]
  },
  {
   "cell_type": "code",
   "execution_count": 49,
   "id": "1b70b48e-c99f-437b-9661-643a118e5cf7",
   "metadata": {},
   "outputs": [],
   "source": [
    "pets={}"
   ]
  },
  {
   "cell_type": "code",
   "execution_count": 54,
   "id": "c3472a3f-0243-49a6-b566-07fb65aebc3d",
   "metadata": {},
   "outputs": [
    {
     "name": "stdin",
     "output_type": "stream",
     "text": [
      "type the name of the pet bruno\n",
      "enter the type of the pet dog\n"
     ]
    },
    {
     "name": "stdout",
     "output_type": "stream",
     "text": [
      "pet already present or if you want to update type yess if not type no\n"
     ]
    },
    {
     "name": "stdin",
     "output_type": "stream",
     "text": [
      "yess/no no\n"
     ]
    },
    {
     "name": "stdout",
     "output_type": "stream",
     "text": [
      "the pet is still the same\n"
     ]
    }
   ],
   "source": [
    "pet_name= input(\"type the name of the pet\")\n",
    "pet_type=input(\"enter the type of the pet\")\n",
    "adopt_pet(pets,pet_name,pet_type)"
   ]
  },
  {
   "cell_type": "code",
   "execution_count": 25,
   "id": "2ff16167-9e82-41b2-94b7-ad743ba97c97",
   "metadata": {},
   "outputs": [],
   "source": [
    "def add_song_to_playlist(playlist:dict,playlist_name:str,song:str):\n",
    "    if playlist_name in playlist:\n",
    "        playlist[playlist_name]={song}\n",
    "        print(f\"{song} has been added to the old playlist {playlist_name}\")\n",
    "    else:\n",
    "        playlist[playlist_name]={song}\n",
    "        print (f\"{song} has been added to a new playlist {playlist_name}\")"
   ]
  },
  {
   "cell_type": "code",
   "execution_count": 26,
   "id": "6526ac5c-b1f9-4651-b83d-d36f435f081a",
   "metadata": {},
   "outputs": [],
   "source": [
    "playlist={}"
   ]
  },
  {
   "cell_type": "code",
   "execution_count": 28,
   "id": "dcc163ff-a1ca-4dd3-8759-46ef96a03643",
   "metadata": {},
   "outputs": [
    {
     "name": "stdin",
     "output_type": "stream",
     "text": [
      "type the name of the playlist: westlife\n",
      "type the name of the song hustle\n"
     ]
    },
    {
     "name": "stdout",
     "output_type": "stream",
     "text": [
      "hustle has been added to the old playlist westlife\n"
     ]
    }
   ],
   "source": [
    "playlist_name=input(\"type the name of the playlist:\")\n",
    "song=input(\"type the name of the song\")\n",
    "add_song_to_playlist(playlist,playlist_name,song)"
   ]
  },
  {
   "cell_type": "code",
   "execution_count": null,
   "id": "61cdb6af-cb47-4ff1-a0f3-a36f09eb1c6d",
   "metadata": {},
   "outputs": [],
   "source": []
  }
 ],
 "metadata": {
  "kernelspec": {
   "display_name": "Python 3 (ipykernel)",
   "language": "python",
   "name": "python3"
  },
  "language_info": {
   "codemirror_mode": {
    "name": "ipython",
    "version": 3
   },
   "file_extension": ".py",
   "mimetype": "text/x-python",
   "name": "python",
   "nbconvert_exporter": "python",
   "pygments_lexer": "ipython3",
   "version": "3.13.2"
  }
 },
 "nbformat": 4,
 "nbformat_minor": 5
}
