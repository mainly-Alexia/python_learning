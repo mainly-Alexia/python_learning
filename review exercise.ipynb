{
 "cells": [
  {
   "cell_type": "code",
   "execution_count": 3,
   "id": "a4fafbef-e675-4873-9c00-25bfa30adace",
   "metadata": {},
   "outputs": [
    {
     "name": "stdin",
     "output_type": "stream",
     "text": [
      "type your name diana\n",
      "indicate your gender your gender in full female\n",
      "write your nationality malawian\n"
     ]
    },
    {
     "name": "stdout",
     "output_type": "stream",
     "text": [
      "your name is diana and you are a female and also a malawian\n"
     ]
    }
   ],
   "source": [
    "name=input(\"type your name\")\n",
    "gender=input(\"indicate your gender your gender in full\")\n",
    "nationality=input(\"write your nationality\")\n",
    "if gender==\"female\" and nationality==\"malawian\":\n",
    "    print(f\"your name is {name} and you are a {gender} and also a {nationality}\")\n",
    "elif gender==\"male\" and nationality==\"bulundian\":\n",
    "    print(f\"your name is {name} and you are a {gender} and also a {nationality}\")\n",
    "elif gender==\"female\" and nationality==\"bulundian\":\n",
    "    print(\"you are not allowed\")\n",
    "else:\n",
    "    print(\"sorry but you are rejected\")"
   ]
  },
  {
   "cell_type": "code",
   "execution_count": null,
   "id": "8f3d4732-5d37-41d8-be2d-b0e528a786ae",
   "metadata": {},
   "outputs": [],
   "source": []
  }
 ],
 "metadata": {
  "kernelspec": {
   "display_name": "Python 3 (ipykernel)",
   "language": "python",
   "name": "python3"
  },
  "language_info": {
   "codemirror_mode": {
    "name": "ipython",
    "version": 3
   },
   "file_extension": ".py",
   "mimetype": "text/x-python",
   "name": "python",
   "nbconvert_exporter": "python",
   "pygments_lexer": "ipython3",
   "version": "3.13.2"
  }
 },
 "nbformat": 4,
 "nbformat_minor": 5
}
