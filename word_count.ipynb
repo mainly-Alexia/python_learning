{
 "cells": [
  {
   "cell_type": "code",
   "execution_count": 34,
   "id": "9bc07c1e-af75-43f3-ab58-a02b46ea4b82",
   "metadata": {},
   "outputs": [
    {
     "name": "stdin",
     "output_type": "stream",
     "text": [
      "which words do you want to count:  word\n"
     ]
    },
    {
     "name": "stdout",
     "output_type": "stream",
     "text": [
      "2\n"
     ]
    }
   ],
   "source": [
    "words=input(\"which words do you want to count:\")\n",
    "count=0\n",
    "for char in words:\n",
    "    if len(words)==1:\n",
    "        if char==\" \":\n",
    "            count=0\n",
    "    if char==\" \" or char==\"\\n\":\n",
    "        count+=1\n",
    "        has_words=True\n",
    "if has_words:\n",
    "    print(count+1)"
   ]
  },
  {
   "cell_type": "code",
   "execution_count": null,
   "id": "8df55a79-08ca-4479-96bf-d8896a1be618",
   "metadata": {},
   "outputs": [],
   "source": []
  }
 ],
 "metadata": {
  "kernelspec": {
   "display_name": "Python 3 (ipykernel)",
   "language": "python",
   "name": "python3"
  },
  "language_info": {
   "codemirror_mode": {
    "name": "ipython",
    "version": 3
   },
   "file_extension": ".py",
   "mimetype": "text/x-python",
   "name": "python",
   "nbconvert_exporter": "python",
   "pygments_lexer": "ipython3",
   "version": "3.13.2"
  }
 },
 "nbformat": 4,
 "nbformat_minor": 5
}
